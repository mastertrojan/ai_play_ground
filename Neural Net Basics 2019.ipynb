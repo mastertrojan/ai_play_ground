{
 "cells": [
  {
   "cell_type": "markdown",
   "metadata": {},
   "source": [
    "This workbook will demonstrate the basics of neural nets\n",
    "\n",
    "**Core Concepts:\n",
    "Forward Propagation\n",
    "Gradient Descent\n",
    "Backward Propagation**\n",
    "\n",
    "**Terms:\n",
    "Input\n",
    "Prediction\n",
    "Goal Prediction\n",
    "Error\n",
    "Delta\n",
    "Alpha\n",
    "Weights**\n",
    "\n",
    "Input: Data provided to the neural network to learn from or predict\n",
    "Prediction: Is the output after the input travels through the network and gets adjusted through the weights\n",
    "Goal Prediction: The expected output of the neural network during the training\n",
    "Error: The difference between the goal prediction and the actual prediction squared\n",
    "Delta: The difference between the goal prediction and the actual prediction\n",
    "Alpha: A scalar used for back propagation. \n",
    "Weights: The numbers that multiply the input in order to make a prediction"
   ]
  },
  {
   "cell_type": "code",
   "execution_count": 2,
   "metadata": {},
   "outputs": [
    {
     "name": "stdout",
     "output_type": "stream",
     "text": [
      "Prediction: 0.2, Error: 0.3600000000000001\n"
     ]
    }
   ],
   "source": [
    "data = 1\n",
    "goal_prediction = 0.8\n",
    "weights = 0.2\n",
    "\n",
    "def forward_neural_network(input):\n",
    "        prediction = input * weights\n",
    "        error = (goal_prediction - prediction) ** 2\n",
    "        print(\"Prediction: {}, Error: {}\".format(prediction, error))\n",
    "\n",
    "forward_neural_network(data)"
   ]
  },
  {
   "cell_type": "markdown",
   "metadata": {},
   "source": [
    "Above we just did a very simple neural network using the concept of forward propagation we take an input and pass it forward through the weights. Its manual and does not learn on its own, we would keep adjusting the weights until we reduce the error to 0. Learning is essentially reducing the error to 0. Forward propagation is passing the data in one direction through the network. "
   ]
  },
  {
   "cell_type": "markdown",
   "metadata": {},
   "source": [
    "Next up is Gradient Descent which is the bread and butter in machine learning. \n",
    "Gradient descent uses the slope of the tangent line (derivative) to adjust the weights in order to find the local minima, or the 0 slope. \n",
    "In gradient descent with use the slope of a given point on the line. \"Which different from using the slope between 2 points on a line.\" \n",
    "\n",
    "Derivative measures the sensitivity to change of the function value (output value) with respect to a change in its argument (input value). “How much does rod X move when I tug on rod Y\", \"instantaneous rate of change\"\n",
    "\n",
    "Whats a derivative:  \n",
    "Gradient Descent takes the partial derivatives and combines them in a Vector. Which is than used to back propagate the weights.\n",
    "\n",
    "In essence we use grandient descent to figure out how much did each node contribute to the error, so we can adjust is accordingly. "
   ]
  },
  {
   "cell_type": "markdown",
   "metadata": {},
   "source": [
    "Below we will demonstrate the concept of gradient descent and back propagation in very simple terms. The method below is called **HOT COLD** "
   ]
  },
  {
   "cell_type": "code",
   "execution_count": 17,
   "metadata": {},
   "outputs": [
    {
     "name": "stdout",
     "output_type": "stream",
     "text": [
      "Prediction: 0.2, Error: 0.3600000000000001\n",
      "Prediction: 0.21000000000000002, Error: 0.3481000000000001\n",
      "Prediction: 0.22000000000000003, Error: 0.3364000000000001\n",
      "Prediction: 0.23000000000000004, Error: 0.3249000000000001\n",
      "Prediction: 0.24000000000000005, Error: 0.31360000000000005\n",
      "Prediction: 0.25000000000000006, Error: 0.30250000000000005\n",
      "Prediction: 0.26000000000000006, Error: 0.2916\n",
      "Prediction: 0.2700000000000001, Error: 0.28090000000000004\n",
      "Prediction: 0.2800000000000001, Error: 0.27040000000000003\n",
      "Prediction: 0.2900000000000001, Error: 0.2601\n",
      "Prediction: 0.3000000000000001, Error: 0.24999999999999994\n",
      "Prediction: 0.3100000000000001, Error: 0.24009999999999992\n",
      "Prediction: 0.3200000000000001, Error: 0.23039999999999994\n",
      "Prediction: 0.3300000000000001, Error: 0.22089999999999993\n",
      "Prediction: 0.34000000000000014, Error: 0.21159999999999993\n",
      "Prediction: 0.35000000000000014, Error: 0.2024999999999999\n",
      "Prediction: 0.36000000000000015, Error: 0.1935999999999999\n",
      "Prediction: 0.37000000000000016, Error: 0.1848999999999999\n",
      "Prediction: 0.38000000000000017, Error: 0.1763999999999999\n",
      "Prediction: 0.3900000000000002, Error: 0.1680999999999999\n",
      "Trained network weight: 0.4000000000000002\n"
     ]
    }
   ],
   "source": [
    "data = 1\n",
    "\n",
    "def forward_step_neural_network(input):\n",
    "    step = 0.01\n",
    "    error = 1\n",
    "    goal_prediction = 0.8\n",
    "    weights = 0.2\n",
    "    last_error = 10\n",
    "    for iteration in range(20):\n",
    "        prediction = input * weights\n",
    "        error = (goal_prediction - prediction) ** 2\n",
    "        if last_error > error:\n",
    "            weights += step\n",
    "        else:\n",
    "            weights -= step\n",
    "        print(\"Prediction: {}, Error: {}\".format(prediction, error))\n",
    "    print(\"Trained network weight: {}\".format(weights))\n",
    "\n",
    "forward_step_neural_network(data)"
   ]
  },
  {
   "cell_type": "markdown",
   "metadata": {},
   "source": [
    "You just trained your first network! Not very useful at this moment but this is the core concept or neural networking."
   ]
  }
 ],
 "metadata": {
  "kernelspec": {
   "display_name": "Python [conda env:aind]",
   "language": "python",
   "name": "conda-env-aind-py"
  },
  "language_info": {
   "codemirror_mode": {
    "name": "ipython",
    "version": 3
   },
   "file_extension": ".py",
   "mimetype": "text/x-python",
   "name": "python",
   "nbconvert_exporter": "python",
   "pygments_lexer": "ipython3",
   "version": "3.5.4"
  }
 },
 "nbformat": 4,
 "nbformat_minor": 2
}
